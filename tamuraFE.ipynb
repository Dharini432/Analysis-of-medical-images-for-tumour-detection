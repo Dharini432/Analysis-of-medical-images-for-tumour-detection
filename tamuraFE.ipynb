{
  "nbformat": 4,
  "nbformat_minor": 0,
  "metadata": {
    "colab": {
      "name": "tamuraFE.ipynb",
      "provenance": [],
      "collapsed_sections": []
    },
    "kernelspec": {
      "name": "python3",
      "display_name": "Python 3"
    },
    "language_info": {
      "name": "python"
    }
  },
  "cells": [
    {
      "cell_type": "code",
      "execution_count": null,
      "metadata": {
        "id": "gonpB_fDxVNy"
      },
      "outputs": [],
      "source": [
        "import cv2\n",
        "import numpy as np\n",
        "import os\n",
        "import glob\n",
        "import time"
      ]
    },
    {
      "cell_type": "code",
      "source": [
        "tic = time.time()\n"
      ],
      "metadata": {
        "id": "Ti4OH-S8xi2M"
      },
      "execution_count": null,
      "outputs": []
    },
    {
      "cell_type": "code",
      "source": [
        "def coarseness(image, kmax):\n",
        "\timage = np.array(image)\n",
        "\tw = image.shape[0]\n",
        "\th = image.shape[1]\n",
        "\tkmax = kmax if (np.power(2,kmax) < w) else int(np.log(w) / np.log(2))\n",
        "\tkmax = kmax if (np.power(2,kmax) < h) else int(np.log(h) / np.log(2))\n",
        "\taverage_gray = np.zeros([kmax,w,h])\n",
        "\thorizon = np.zeros([kmax,w,h])\n",
        "\tvertical = np.zeros([kmax,w,h])\n",
        "\tSbest = np.zeros([w,h])\n",
        "\n",
        "\tfor k in range(kmax):\n",
        "\t\twindow = np.power(2,k)\n",
        "\t\tfor wi in range(w)[window:(w-window)]:\n",
        "\t\t\tfor hi in range(h)[window:(h-window)]:\n",
        "\t\t\t\taverage_gray[k][wi][hi] = np.sum(image[wi-window:wi+window, hi-window:hi+window])\n",
        "\t\tfor wi in range(w)[window:(w-window-1)]:\n",
        "\t\t\tfor hi in range(h)[window:(h-window-1)]:\n",
        "\t\t\t\thorizon[k][wi][hi] = average_gray[k][wi+window][hi] - average_gray[k][wi-window][hi]\n",
        "\t\t\t\tvertical[k][wi][hi] = average_gray[k][wi][hi+window] - average_gray[k][wi][hi-window]\n",
        "\t\thorizon[k] = horizon[k] * (1.0 / np.power(2, 2*(k+1)))\n",
        "\t\tvertical[k] = horizon[k] * (1.0 / np.power(2, 2*(k+1)))\n",
        "\n",
        "\tfor wi in range(w):\n",
        "\t\tfor hi in range(h):\n",
        "\t\t\th_max = np.max(horizon[:,wi,hi])\n",
        "\t\t\th_max_index = np.argmax(horizon[:,wi,hi])\n",
        "\t\t\tv_max = np.max(vertical[:,wi,hi])\n",
        "\t\t\tv_max_index = np.argmax(vertical[:,wi,hi])\n",
        "\t\t\tindex = h_max_index if (h_max > v_max) else v_max_index\n",
        "\t\t\tSbest[wi][hi] = np.power(2,index)\n",
        "\n",
        "\tfcrs = np.mean(Sbest)\n",
        "\treturn fcrs"
      ],
      "metadata": {
        "id": "7aL_n9j8xyx3"
      },
      "execution_count": null,
      "outputs": []
    },
    {
      "cell_type": "code",
      "source": [
        "from google.colab import drive\n",
        "drive.mount('/content/drive')"
      ],
      "metadata": {
        "colab": {
          "base_uri": "https://localhost:8080/"
        },
        "id": "rr4iNFV2h1QK",
        "outputId": "38f7104c-7db0-42bc-8a6d-47cf44c345b8"
      },
      "execution_count": null,
      "outputs": [
        {
          "output_type": "stream",
          "name": "stdout",
          "text": [
            "Mounted at /content/drive\n"
          ]
        }
      ]
    },
    {
      "cell_type": "code",
      "source": [
        "def contrast(image):\n",
        "\timage = np.array(image)\n",
        "\timage = np.reshape(image, (1, image.shape[0]*image.shape[1]))\n",
        "\tm4 = np.mean(np.power(image - np.mean(image),4))\n",
        "\tv = np.var(image)\n",
        "\tstd = np.power(v, 0.5)\n",
        "\talfa4 = m4 / np.power(v,2)\n",
        "\tfcon = std / np.power(alfa4, 0.25)\n",
        "\treturn fcon"
      ],
      "metadata": {
        "id": "Lfm6YEyKx4fe"
      },
      "execution_count": null,
      "outputs": []
    },
    {
      "cell_type": "code",
      "source": [
        "def directionality(image):\n",
        "\timage = np.array(image, dtype = 'int64')\n",
        "\th = image.shape[0]\n",
        "\tw = image.shape[1]\n",
        "\tconvH = np.array([[-1,0,1],[-1,0,1],[-1,0,1]])\n",
        "\tconvV = np.array([[1,1,1],[0,0,0],[-1,-1,-1]])\n",
        "\tdeltaH = np.zeros([h,w])\n",
        "\tdeltaV = np.zeros([h,w])\n",
        "\ttheta = np.zeros([h,w])\n",
        "\n",
        "\t# calc for deltaH\n",
        "\tfor hi in range(h)[1:h-1]:\n",
        "\t\tfor wi in range(w)[1:w-1]:\n",
        "\t\t\tdeltaH[hi][wi] = np.sum(np.multiply(image[hi-1:hi+2, wi-1:wi+2], convH))\n",
        "\tfor wi in range(w)[1:w-1]:\n",
        "\t\tdeltaH[0][wi] = image[0][wi+1] - image[0][wi]\n",
        "\t\tdeltaH[h-1][wi] = image[h-1][wi+1] - image[h-1][wi]\n",
        "\tfor hi in range(h):\n",
        "\t\tdeltaH[hi][0] = image[hi][1] - image[hi][0]\n",
        "\t\tdeltaH[hi][w-1] = image[hi][w-1] - image[hi][w-2]\n",
        "\n",
        "\t# calc for deltaV\n",
        "\tfor hi in range(h)[1:h-1]:\n",
        "\t\tfor wi in range(w)[1:w-1]:\n",
        "\t\t\tdeltaV[hi][wi] = np.sum(np.multiply(image[hi-1:hi+2, wi-1:wi+2], convV))\n",
        "\tfor wi in range(w):\n",
        "\t\tdeltaV[0][wi] = image[1][wi] - image[0][wi]\n",
        "\t\tdeltaV[h-1][wi] = image[h-1][wi] - image[h-2][wi]\n",
        "\tfor hi in range(h)[1:h-1]:\n",
        "\t\tdeltaV[hi][0] = image[hi+1][0] - image[hi][0]\n",
        "\t\tdeltaV[hi][w-1] = image[hi+1][w-1] - image[hi][w-1]\n",
        "\n",
        "\tdeltaG = (np.absolute(deltaH) + np.absolute(deltaV)) / 2.0\n",
        "\tdeltaG_vec = np.reshape(deltaG, (deltaG.shape[0] * deltaG.shape[1]))\n",
        "\n",
        "\t# calc the theta\n",
        "\tfor hi in range(h):\n",
        "\t\tfor wi in range(w):\n",
        "\t\t\tif (deltaH[hi][wi] == 0 and deltaV[hi][wi] == 0):\n",
        "\t\t\t\ttheta[hi][wi] = 0;\n",
        "\t\t\telif(deltaH[hi][wi] == 0):\n",
        "\t\t\t\ttheta[hi][wi] = np.pi\n",
        "\t\t\telse:\n",
        "\t\t\t\ttheta[hi][wi] = np.arctan(deltaV[hi][wi] / deltaH[hi][wi]) + np.pi / 2.0\n",
        "\ttheta_vec = np.reshape(theta, (theta.shape[0] * theta.shape[1]))\n",
        "\n",
        "\tn = 16\n",
        "\tt = 12\n",
        "\tcnt = 0\n",
        "\thd = np.zeros(n)\n",
        "\tdlen = deltaG_vec.shape[0]\n",
        "\tfor ni in range(n):\n",
        "\t\tfor k in range(dlen):\n",
        "\t\t\tif((deltaG_vec[k] >= t) and (theta_vec[k] >= (2*ni-1) * np.pi / (2 * n)) and (theta_vec[k] < (2*ni+1) * np.pi / (2 * n))):\n",
        "\t\t\t\thd[ni] += 1\n",
        "\thd = hd / np.mean(hd)\n",
        "\thd_max_index = np.argmax(hd)\n",
        "\tfdir = 0\n",
        "\tfor ni in range(n):\n",
        "\t\tfdir += np.power((ni - hd_max_index), 2) * hd[ni]\n",
        "\treturn fdir"
      ],
      "metadata": {
        "id": "YkxPVQ_Ux8VT"
      },
      "execution_count": null,
      "outputs": []
    },
    {
      "cell_type": "code",
      "source": [
        "def roughness(fcrs, fcon):\n",
        "\treturn fcrs + fcon\n",
        "\n",
        "if __name__ == '__main__':\n",
        "        \n",
        "        # load the training dataset\n",
        "        train_path  = \"/content/drive/MyDrive/Medical Image/Chest CT/train/Normal\"\n",
        "        train_names = os.listdir(train_path)\n",
        "\n",
        "        # loop over the training dataset\n",
        "        cur_path = os.path.join(train_path, '*g')\n",
        "        cur_label = train_names\n",
        "        i = 0\n",
        "\n",
        "        for file in glob.glob(cur_path):\n",
        "            print('For image {} named {}:'.format(i+1,cur_label[i]))\n",
        "            img = cv2.imread(file)\n",
        "            img=cv2.cvtColor(img,cv2.COLOR_BGR2GRAY)\n",
        "            print('Shape of image is: {} '.format(img.shape))\n",
        "            fcrs = coarseness(img, 5)\n",
        "            print(\"coarseness: %f\" % fcrs);\n",
        "            fcon = contrast(img)\n",
        "            print(\"contrast: %f\" % fcon)\n",
        "            fdir= directionality(img)\n",
        "            print(\"directionality: %f\" % fdir)\n",
        "            f_r=roughness(fcrs,fcon)\n",
        "            print(\"roughness: %f\" % f_r)\n",
        "            print('\\n\\n')\n",
        "            i+=1"
      ],
      "metadata": {
        "colab": {
          "base_uri": "https://localhost:8080/"
        },
        "id": "54z2Lp1NyLGQ",
        "outputId": "65821a4a-8d31-4bb4-911f-e7221c86094a"
      },
      "execution_count": null,
      "outputs": [
        {
          "output_type": "stream",
          "name": "stdout",
          "text": [
            "For image 1 named 2.png:\n",
            "Shape of image is: (512, 512) \n",
            "coarseness: 8.533089\n",
            "contrast: 73.658229\n",
            "directionality: 526.890643\n",
            "roughness: 82.191318\n",
            "\n",
            "\n",
            "\n",
            "For image 2 named 3.png:\n",
            "Shape of image is: (512, 512) \n",
            "coarseness: 8.324104\n",
            "contrast: 73.866292\n",
            "directionality: 1035.074463\n",
            "roughness: 82.190396\n",
            "\n",
            "\n",
            "\n",
            "For image 3 named 1.png:\n",
            "Shape of image is: (512, 512) \n",
            "coarseness: 8.677429\n",
            "contrast: 73.410843\n",
            "directionality: 1051.448649\n",
            "roughness: 82.088273\n",
            "\n",
            "\n",
            "\n",
            "For image 4 named 4.png:\n",
            "Shape of image is: (512, 512) \n",
            "coarseness: 8.693562\n",
            "contrast: 73.405679\n",
            "directionality: 1170.544119\n",
            "roughness: 82.099241\n",
            "\n",
            "\n",
            "\n",
            "For image 5 named 5.png:\n",
            "Shape of image is: (512, 512) \n",
            "coarseness: 8.419239\n",
            "contrast: 69.875320\n",
            "directionality: 620.763196\n",
            "roughness: 78.294559\n",
            "\n",
            "\n",
            "\n"
          ]
        }
      ]
    },
    {
      "cell_type": "code",
      "source": [
        "toc = time.time()\n",
        "print(\"Computation time is {} minutes\".format((toc-tic)/60))"
      ],
      "metadata": {
        "id": "7OYgUGCUFTyb"
      },
      "execution_count": null,
      "outputs": []
    }
  ]
}